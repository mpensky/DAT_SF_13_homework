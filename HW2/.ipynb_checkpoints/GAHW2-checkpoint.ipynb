{
 "metadata": {
  "name": "",
  "signature": "sha256:ad7e834114f2a73cf190bd97f4147f048eba4442b7b17b9e363fa11b8ee8cd34"
 },
 "nbformat": 3,
 "nbformat_minor": 0,
 "worksheets": [
  {
   "cells": [
    {
     "cell_type": "code",
     "collapsed": false,
     "input": [
      "%matplotlib inline\n",
      "from __future__ import division\n",
      "import pandas as pd\n",
      "import numpy as np\n",
      "#from seaborn import plt\n",
      "import matplotlib.pyplot as plt\n",
      "from sklearn.datasets import load_iris"
     ],
     "language": "python",
     "metadata": {},
     "outputs": [],
     "prompt_number": 190
    },
    {
     "cell_type": "code",
     "collapsed": false,
     "input": [
      "from matplotlib.colors import ListedColormap\n",
      "from sklearn import neighbors, datasets, feature_selection\n",
      "from sklearn.cross_validation import train_test_split, cross_val_score"
     ],
     "language": "python",
     "metadata": {},
     "outputs": [],
     "prompt_number": 191
    },
    {
     "cell_type": "code",
     "collapsed": false,
     "input": [
      "#1. Implement KNN classification using sklearn package. \n",
      "\n",
      "nn = 11 # Consult 11 nearest points (at this point haven't done cross-validation to determine if this is the best one)\n",
      "\n",
      "# Load in the data\n",
      "iris = datasets.load_iris()\n",
      "iris_df = pd.DataFrame(iris.data, columns=iris.feature_names)\n",
      "\n",
      "# Get X and y values (full sample here since not cross-validating -- this is in the next question)\n",
      "X = iris.data\n",
      "y = iris.target\n",
      "\n",
      "\n",
      "# Implement K-nearest neighbors\n",
      "clf = neighbors.KNeighborsClassifier(nn)\n",
      "clf.fit(X, y)\n",
      "\n",
      "# Training score:\n",
      "trscore = clf.score(X,y)\n",
      "print 'In-sample / training score is {:.2f}%'.format(trscore*100)"
     ],
     "language": "python",
     "metadata": {},
     "outputs": [
      {
       "output_type": "stream",
       "stream": "stdout",
       "text": [
        "In-sample / training score is 97.33%\n"
       ]
      }
     ],
     "prompt_number": 192
    },
    {
     "cell_type": "code",
     "collapsed": false,
     "input": [
      "#2. Use the sklearn package to implement cross-validation for your classifier. Use 5 folds for your cross-validation.\n",
      "\n",
      "from sklearn.datasets import load_iris\n",
      "from sklearn.cross_validation import cross_val_score\n",
      "\n",
      "# Re-load iris dataset and create dataframe\n",
      "iris = datasets.load_iris()\n",
      "iris_df = pd.DataFrame(iris.data, columns=iris.feature_names)\n",
      "\n",
      "# Get KNN classifier at various cross validations\n",
      "clf_xv = neighbors.KNeighborsClassifier(11, weights='uniform') #Initialize KNN\n",
      "clf_xv.fit(iris.data, iris.target) \n",
      "skscores = cross_val_score(clf_xv, iris_df.values, iris.target, cv=5) #Here, using 5 folds\n",
      "\n",
      "print skscores"
     ],
     "language": "python",
     "metadata": {},
     "outputs": [
      {
       "output_type": "stream",
       "stream": "stdout",
       "text": [
        "[ 0.93333333  1.          1.          0.96666667  1.        ]\n"
       ]
      }
     ],
     "prompt_number": 193
    },
    {
     "cell_type": "code",
     "collapsed": false,
     "input": [
      "# 3. Use your KNN classifier and cross-validation code from (1) and (2) above to determine the optimal value of \n",
      "# K (number of nearest neighbors to consult) for this Iris dataset. Hint: This hyperparameter will be a number between \n",
      "# 1 and 150.\n",
      "\n",
      "from sklearn.datasets import load_iris\n",
      "from sklearn.cross_validation import cross_val_score\n",
      "\n",
      "nns = range(1,120,2)\n",
      "\n",
      "score_by_n=[]\n",
      "for n in nns:\n",
      "    clf_xv_nns = neighbors.KNeighborsClassifier(n, weights='uniform') #Initialize KNN\n",
      "    clf_xv_nns.fit(iris.data, iris.target) \n",
      "    scores = cross_val_score(clf_xv_nns, iris_df.values, iris.target, cv=5) #Here, using 5 folds\n",
      "    score_by_n.append(np.mean(scores))\n",
      "\n",
      "myplt = plt.plot(nns,score_by_n,linewidth=0.3)\n",
      "plt.xlabel('Nearest neighbors checked / K')\n",
      "plt.ylabel('Mean scre/accuracy')\n",
      "plt.title('Mean score/accuracy from cross-validation')\n",
      "\n",
      "optimIndx = np.where(score_by_n==max(score_by_n))[0]\n",
      "\n",
      "print 'Optimal K parameters are {0} and {1}'.format(nns[3], nns[5])\n"
     ],
     "language": "python",
     "metadata": {},
     "outputs": [
      {
       "output_type": "stream",
       "stream": "stdout",
       "text": [
        "Optimal K parameters are 7 and 11\n"
       ]
      },
      {
       "metadata": {},
       "output_type": "display_data",
       "png": "[encoded data removed]",
       "text": [
        "<matplotlib.figure.Figure at 0xd51a198>"
       ]
      }
     ],
     "prompt_number": 194
    },
    {
     "cell_type": "code",
     "collapsed": false,
     "input": [
      "# 4. Using matplotlib, plot classifier accuracy versus the hyperparameter K for a range of K that you consider \n",
      "# interesting. Explain in words what you are seeing.\n",
      "\n",
      "# The graph appears above but we re-plot it below\n",
      "\n",
      "myplt = plt.plot(nns,score_by_n,linewidth=0.3)\n",
      "plt.xlabel('Nearest neighbors checked / K')\n",
      "plt.ylabel('Mean scre/accuracy')\n",
      "plt.title('Mean score/accuracy from cross-validation')\n",
      "\n",
      "print \"\"\"\n",
      "The graph below illustrates the average score/accuracy from cross-validation. It shows that the highest accuracy \\n \n",
      "occurs with low K (best are 7 and 11) and then falls off meaningfully. The accuracy has as significant drop-off around \\n\n",
      "K = 80 and continues to fall toward 120\n",
      "\"\"\""
     ],
     "language": "python",
     "metadata": {},
     "outputs": [
      {
       "output_type": "stream",
       "stream": "stdout",
       "text": [
        "\n",
        "The graph below illustrates the average score/accuracy from cross-validation. It shows that the highest accuracy \n",
        " \n",
        "occurs with low K (best are 7 and 11) and then falls off meaningfully. The accuracy has as significant drop-off around \n",
        "\n",
        "K = 80 and continues to fall toward 120\n",
        "\n"
       ]
      },
      {
       "metadata": {},
       "output_type": "display_data",
       "png": "[encoded data removed]",
       "text": [
        "<matplotlib.figure.Figure at 0x1766a9e8>"
       ]
      }
     ],
     "prompt_number": 195
    },
    {
     "cell_type": "code",
     "collapsed": false,
     "input": [
      "# 5. Now, write your own implementation of cross-validation in Python without using the cross-validation methods from \n",
      "# sklearn. Cross validation is a very important concept. Implementing it yourself in Python is the best way to learn\n",
      "# and understand it. Compare the results of your cross-validation code with your results using the cross-validation \n",
      "# in sklearn.\n",
      "\n",
      "# Function that will create cross-validation folds; returns array assigning the fold value for each datapoint\n",
      "\n",
      "def CreateXValidationFolds(numdatapts, numfolds):\n",
      "        return np.floor(np.random.rand(numdatapts)*numfolds)\n",
      "\n",
      "from sklearn.datasets import load_iris\n",
      "from sklearn.cross_validation import cross_val_score\n",
      "\n",
      "# Re-load iris dataset and create dataframe\n",
      "iris = datasets.load_iris()\n",
      "iris_df = pd.DataFrame(iris.data, columns=iris.feature_names)\n",
      "\n",
      "# Attach 5 folds to iris_df and use 11 nearest neighbors\n",
      "iris_df['folds'] = CreateXValidationFolds(len(iris_df), 5)\n",
      "iris_resp_df = pd.DataFrame(iris.target)\n",
      "iris_resp_df['folds'] = iris_df['folds']\n",
      "nearneighb = 11\n",
      "\n",
      "score_xv=[]\n",
      "for i in range(5):\n",
      "    X_train = iris_df[iris_df.folds!=i].values[:,0:4] #Training feature set\n",
      "    y_train = iris_resp_df[iris_resp_df.folds!=i].values[:,0] # Training response set\n",
      "    X_test = iris_df[iris_df.folds==i].values[:,0:4] #Test feature set\n",
      "    y_test = iris_resp_df[iris_resp_df.folds==i].values[:,0] #Test response set\n",
      "    clf_myxv = neighbors.KNeighborsClassifier(nearneighb, weights='uniform') #Initialize KNN\n",
      "    clf_myxv.fit(X_train, y_train) # Train it\n",
      "    \n",
      "    score = clf.score(X_test,y_test) #Get the score\n",
      "    score_xv.append(score) #Save the scores\n",
      "\n",
      "print \"\"\"\n",
      "The resulting average accuracy from my function is {:.2f}% vs. {:.2f}% from sklearn. \\n\n",
      "They are very close.\n",
      "\"\"\".format(np.mean(score_xv)*100, np.mean(skscores)*100)"
     ],
     "language": "python",
     "metadata": {},
     "outputs": [
      {
       "output_type": "stream",
       "stream": "stdout",
       "text": [
        "\n",
        "The resulting average accuracy from my function is 97.61% vs. 98.00% from sklearn. \n",
        "\n",
        "They are very close.\n",
        "\n"
       ]
      }
     ],
     "prompt_number": 196
    },
    {
     "cell_type": "code",
     "collapsed": false,
     "input": [
      "# 6. EXTRA CREDIT 1: Using the value of K obtained in (3) above, vary the number of folds used for cross-validation \n",
      "# across an interesting range, e.g. [ 2, 3, 5, 6, 10, 15]. How does classifier accuracy vary with the number of folds used?\n",
      "# Do you think there exists an optimal number of folds to use for this particular problem? Why or why not?\n",
      "\n",
      "from sklearn.datasets import load_iris\n",
      "from sklearn.cross_validation import cross_val_score\n",
      "\n",
      "# Function that does everything from question 5:\n",
      "def CrossValidationOnIris(iris, nearneighb, folds):\n",
      "    iris_df = pd.DataFrame(iris.data, columns=iris.feature_names)\n",
      "    # Attach folds to iris_df and use nearest neighbors\n",
      "    iris_df['folds'] = CreateXValidationFolds(len(iris_df), folds)\n",
      "    iris_resp_df = pd.DataFrame(iris.target)\n",
      "    iris_resp_df['folds'] = iris_df['folds']\n",
      "\n",
      "    score_xv=[]\n",
      "    for i in range(folds):\n",
      "        X_train = iris_df[iris_df.folds!=i].values[:,0:4] #Training feature set\n",
      "        y_train = iris_resp_df[iris_resp_df.folds!=i].values[:,0] # Training response set\n",
      "        X_test = iris_df[iris_df.folds==i].values[:,0:4] #Test feature set\n",
      "        y_test = iris_resp_df[iris_resp_df.folds==i].values[:,0] #Test response set\n",
      "        clf_myxv = neighbors.KNeighborsClassifier(nearneighb, weights='uniform') #Initialize KNN\n",
      "        clf_myxv.fit(X_train, y_train) # Train it\n",
      "\n",
      "        score = clf.score(X_test,y_test) #Get the score\n",
      "        score_xv.append(score) #Save the scores\n",
      "    \n",
      "    return score_xv\n",
      "\n",
      "foldset = [2,3,5,6,10,15]\n",
      "\n",
      "# Re-load iris dataset and create dataframe\n",
      "iris = datasets.load_iris()\n",
      "\n",
      "avgaccuracy = []\n",
      "for fld in foldset:\n",
      "    avgaccuracy.append(np.mean(CrossValidationOnIris(iris, 11, fld)))\n",
      "\n",
      "\n",
      "myplt = plt.plot(foldset,avgaccuracy)\n",
      "plt.xlabel('Number of folds')\n",
      "plt.ylabel('Mean score/accuracy')\n",
      "plt.title('Mean score/accuracy from cross-validation by fold')\n",
      "    \n",
      "    \n",
      "print \"\"\"\n",
      "    The graph below shows the mean accuracy as we vary folds in cross validation. \n",
      "    The results do change but not meaningfully -- the y-axis on the left shows that the variation is very small.\n",
      "    It seems like we could use many or few folds to cross-validate, at least with this problem.\n",
      "    \"\"\"\n",
      "    \n",
      "    "
     ],
     "language": "python",
     "metadata": {},
     "outputs": [
      {
       "output_type": "stream",
       "stream": "stdout",
       "text": [
        "\n",
        "    The graph below shows the mean accuracy as we vary folds in cross validation. \n",
        "    The results do change but not meaningfully -- the y-axis on the left shows that the variation is very small.\n",
        "    It seems like we could use many or few folds to cross-validate, at least with this problem.\n",
        "    \n"
       ]
      },
      {
       "metadata": {},
       "output_type": "display_data",
       "png": "[encoded data removed]",
       "text": [
        "<matplotlib.figure.Figure at 0xd51ae48>"
       ]
      }
     ],
     "prompt_number": 200
    }
   ],
   "metadata": {}
  }
 ]
}